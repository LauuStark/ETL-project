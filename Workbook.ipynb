{
 "cells": [
  {
   "cell_type": "code",
   "execution_count": 1,
   "metadata": {},
   "outputs": [],
   "source": [
    "import pandas as pd\n",
    "import requests\n",
    "import json"
   ]
  },
  {
   "cell_type": "code",
   "execution_count": 2,
   "metadata": {},
   "outputs": [],
   "source": [
    "meteoriteFile = \"Resources/meteorite-landings.csv\""
   ]
  },
  {
   "cell_type": "code",
   "execution_count": 3,
   "metadata": {},
   "outputs": [],
   "source": [
    "meteoriteDF = pd.read_csv(meteoriteFile, encoding=\"ISO-8859-1\")"
   ]
  },
  {
   "cell_type": "code",
   "execution_count": 12,
   "metadata": {
    "scrolled": true
   },
   "outputs": [
    {
     "data": {
      "text/plain": [
       "(45716, 10)"
      ]
     },
     "execution_count": 12,
     "metadata": {},
     "output_type": "execute_result"
    }
   ],
   "source": [
    "meteoriteDF.shape"
   ]
  },
  {
   "cell_type": "code",
   "execution_count": 14,
   "metadata": {},
   "outputs": [
    {
     "data": {
      "text/plain": [
       "Index(['name', 'id', 'nametype', 'recclass', 'mass', 'fall', 'year', 'reclat',\n",
       "       'reclong', 'GeoLocation'],\n",
       "      dtype='object')"
      ]
     },
     "execution_count": 14,
     "metadata": {},
     "output_type": "execute_result"
    }
   ],
   "source": [
    "meteoriteDF.columns"
   ]
  },
  {
   "cell_type": "code",
   "execution_count": 16,
   "metadata": {},
   "outputs": [
    {
     "data": {
      "text/plain": [
       "name            object\n",
       "id               int64\n",
       "nametype        object\n",
       "recclass        object\n",
       "mass           float64\n",
       "fall            object\n",
       "year           float64\n",
       "reclat         float64\n",
       "reclong        float64\n",
       "GeoLocation     object\n",
       "dtype: object"
      ]
     },
     "execution_count": 16,
     "metadata": {},
     "output_type": "execute_result"
    }
   ],
   "source": [
    "meteoriteDF.dtypes"
   ]
  },
  {
   "cell_type": "code",
   "execution_count": 4,
   "metadata": {
    "scrolled": false
   },
   "outputs": [
    {
     "data": {
      "text/html": [
       "<div>\n",
       "<style scoped>\n",
       "    .dataframe tbody tr th:only-of-type {\n",
       "        vertical-align: middle;\n",
       "    }\n",
       "\n",
       "    .dataframe tbody tr th {\n",
       "        vertical-align: top;\n",
       "    }\n",
       "\n",
       "    .dataframe thead th {\n",
       "        text-align: right;\n",
       "    }\n",
       "</style>\n",
       "<table border=\"1\" class=\"dataframe\">\n",
       "  <thead>\n",
       "    <tr style=\"text-align: right;\">\n",
       "      <th></th>\n",
       "      <th>name</th>\n",
       "      <th>id</th>\n",
       "      <th>nametype</th>\n",
       "      <th>recclass</th>\n",
       "      <th>mass</th>\n",
       "      <th>fall</th>\n",
       "      <th>year</th>\n",
       "      <th>reclat</th>\n",
       "      <th>reclong</th>\n",
       "      <th>GeoLocation</th>\n",
       "    </tr>\n",
       "  </thead>\n",
       "  <tbody>\n",
       "    <tr>\n",
       "      <th>0</th>\n",
       "      <td>Aachen</td>\n",
       "      <td>1</td>\n",
       "      <td>Valid</td>\n",
       "      <td>L5</td>\n",
       "      <td>21.0</td>\n",
       "      <td>Fell</td>\n",
       "      <td>1880.0</td>\n",
       "      <td>50.77500</td>\n",
       "      <td>6.08333</td>\n",
       "      <td>(50.775000, 6.083330)</td>\n",
       "    </tr>\n",
       "    <tr>\n",
       "      <th>1</th>\n",
       "      <td>Aarhus</td>\n",
       "      <td>2</td>\n",
       "      <td>Valid</td>\n",
       "      <td>H6</td>\n",
       "      <td>720.0</td>\n",
       "      <td>Fell</td>\n",
       "      <td>1951.0</td>\n",
       "      <td>56.18333</td>\n",
       "      <td>10.23333</td>\n",
       "      <td>(56.183330, 10.233330)</td>\n",
       "    </tr>\n",
       "    <tr>\n",
       "      <th>2</th>\n",
       "      <td>Abee</td>\n",
       "      <td>6</td>\n",
       "      <td>Valid</td>\n",
       "      <td>EH4</td>\n",
       "      <td>107000.0</td>\n",
       "      <td>Fell</td>\n",
       "      <td>1952.0</td>\n",
       "      <td>54.21667</td>\n",
       "      <td>-113.00000</td>\n",
       "      <td>(54.216670, -113.000000)</td>\n",
       "    </tr>\n",
       "    <tr>\n",
       "      <th>3</th>\n",
       "      <td>Acapulco</td>\n",
       "      <td>10</td>\n",
       "      <td>Valid</td>\n",
       "      <td>Acapulcoite</td>\n",
       "      <td>1914.0</td>\n",
       "      <td>Fell</td>\n",
       "      <td>1976.0</td>\n",
       "      <td>16.88333</td>\n",
       "      <td>-99.90000</td>\n",
       "      <td>(16.883330, -99.900000)</td>\n",
       "    </tr>\n",
       "    <tr>\n",
       "      <th>4</th>\n",
       "      <td>Achiras</td>\n",
       "      <td>370</td>\n",
       "      <td>Valid</td>\n",
       "      <td>L6</td>\n",
       "      <td>780.0</td>\n",
       "      <td>Fell</td>\n",
       "      <td>1902.0</td>\n",
       "      <td>-33.16667</td>\n",
       "      <td>-64.95000</td>\n",
       "      <td>(-33.166670, -64.950000)</td>\n",
       "    </tr>\n",
       "  </tbody>\n",
       "</table>\n",
       "</div>"
      ],
      "text/plain": [
       "       name   id nametype     recclass      mass  fall    year    reclat  \\\n",
       "0    Aachen    1    Valid           L5      21.0  Fell  1880.0  50.77500   \n",
       "1    Aarhus    2    Valid           H6     720.0  Fell  1951.0  56.18333   \n",
       "2      Abee    6    Valid          EH4  107000.0  Fell  1952.0  54.21667   \n",
       "3  Acapulco   10    Valid  Acapulcoite    1914.0  Fell  1976.0  16.88333   \n",
       "4   Achiras  370    Valid           L6     780.0  Fell  1902.0 -33.16667   \n",
       "\n",
       "     reclong               GeoLocation  \n",
       "0    6.08333     (50.775000, 6.083330)  \n",
       "1   10.23333    (56.183330, 10.233330)  \n",
       "2 -113.00000  (54.216670, -113.000000)  \n",
       "3  -99.90000   (16.883330, -99.900000)  \n",
       "4  -64.95000  (-33.166670, -64.950000)  "
      ]
     },
     "execution_count": 4,
     "metadata": {},
     "output_type": "execute_result"
    }
   ],
   "source": [
    "meteoriteDF.head()"
   ]
  },
  {
   "cell_type": "code",
   "execution_count": 13,
   "metadata": {
    "scrolled": true
   },
   "outputs": [
    {
     "data": {
      "text/html": [
       "<div>\n",
       "<style scoped>\n",
       "    .dataframe tbody tr th:only-of-type {\n",
       "        vertical-align: middle;\n",
       "    }\n",
       "\n",
       "    .dataframe tbody tr th {\n",
       "        vertical-align: top;\n",
       "    }\n",
       "\n",
       "    .dataframe thead th {\n",
       "        text-align: right;\n",
       "    }\n",
       "</style>\n",
       "<table border=\"1\" class=\"dataframe\">\n",
       "  <thead>\n",
       "    <tr style=\"text-align: right;\">\n",
       "      <th></th>\n",
       "      <th>id</th>\n",
       "      <th>mass</th>\n",
       "      <th>year</th>\n",
       "      <th>reclat</th>\n",
       "      <th>reclong</th>\n",
       "    </tr>\n",
       "  </thead>\n",
       "  <tbody>\n",
       "    <tr>\n",
       "      <th>count</th>\n",
       "      <td>45716.000000</td>\n",
       "      <td>4.558500e+04</td>\n",
       "      <td>45428.000000</td>\n",
       "      <td>38401.000000</td>\n",
       "      <td>38401.000000</td>\n",
       "    </tr>\n",
       "    <tr>\n",
       "      <th>mean</th>\n",
       "      <td>26889.735104</td>\n",
       "      <td>1.327808e+04</td>\n",
       "      <td>1991.772189</td>\n",
       "      <td>-39.122580</td>\n",
       "      <td>61.074319</td>\n",
       "    </tr>\n",
       "    <tr>\n",
       "      <th>std</th>\n",
       "      <td>16860.683030</td>\n",
       "      <td>5.749889e+05</td>\n",
       "      <td>27.181247</td>\n",
       "      <td>46.378511</td>\n",
       "      <td>80.647298</td>\n",
       "    </tr>\n",
       "    <tr>\n",
       "      <th>min</th>\n",
       "      <td>1.000000</td>\n",
       "      <td>0.000000e+00</td>\n",
       "      <td>301.000000</td>\n",
       "      <td>-87.366670</td>\n",
       "      <td>-165.433330</td>\n",
       "    </tr>\n",
       "    <tr>\n",
       "      <th>25%</th>\n",
       "      <td>12688.750000</td>\n",
       "      <td>7.200000e+00</td>\n",
       "      <td>1987.000000</td>\n",
       "      <td>-76.714240</td>\n",
       "      <td>0.000000</td>\n",
       "    </tr>\n",
       "    <tr>\n",
       "      <th>50%</th>\n",
       "      <td>24261.500000</td>\n",
       "      <td>3.260000e+01</td>\n",
       "      <td>1998.000000</td>\n",
       "      <td>-71.500000</td>\n",
       "      <td>35.666670</td>\n",
       "    </tr>\n",
       "    <tr>\n",
       "      <th>75%</th>\n",
       "      <td>40656.750000</td>\n",
       "      <td>2.026000e+02</td>\n",
       "      <td>2003.000000</td>\n",
       "      <td>0.000000</td>\n",
       "      <td>157.166670</td>\n",
       "    </tr>\n",
       "    <tr>\n",
       "      <th>max</th>\n",
       "      <td>57458.000000</td>\n",
       "      <td>6.000000e+07</td>\n",
       "      <td>2501.000000</td>\n",
       "      <td>81.166670</td>\n",
       "      <td>354.473330</td>\n",
       "    </tr>\n",
       "  </tbody>\n",
       "</table>\n",
       "</div>"
      ],
      "text/plain": [
       "                 id          mass          year        reclat       reclong\n",
       "count  45716.000000  4.558500e+04  45428.000000  38401.000000  38401.000000\n",
       "mean   26889.735104  1.327808e+04   1991.772189    -39.122580     61.074319\n",
       "std    16860.683030  5.749889e+05     27.181247     46.378511     80.647298\n",
       "min        1.000000  0.000000e+00    301.000000    -87.366670   -165.433330\n",
       "25%    12688.750000  7.200000e+00   1987.000000    -76.714240      0.000000\n",
       "50%    24261.500000  3.260000e+01   1998.000000    -71.500000     35.666670\n",
       "75%    40656.750000  2.026000e+02   2003.000000      0.000000    157.166670\n",
       "max    57458.000000  6.000000e+07   2501.000000     81.166670    354.473330"
      ]
     },
     "execution_count": 13,
     "metadata": {},
     "output_type": "execute_result"
    }
   ],
   "source": [
    "meteoriteDF.describe() "
   ]
  },
  {
   "cell_type": "code",
   "execution_count": 15,
   "metadata": {},
   "outputs": [
    {
     "data": {
      "text/plain": [
       "name              0\n",
       "id                0\n",
       "nametype          0\n",
       "recclass          0\n",
       "mass            131\n",
       "fall              0\n",
       "year            288\n",
       "reclat         7315\n",
       "reclong        7315\n",
       "GeoLocation    7315\n",
       "dtype: int64"
      ]
     },
     "execution_count": 15,
     "metadata": {},
     "output_type": "execute_result"
    }
   ],
   "source": [
    "meteoriteDF.isnull().sum()"
   ]
  },
  {
   "cell_type": "code",
   "execution_count": 6,
   "metadata": {},
   "outputs": [],
   "source": [
    "meteoriteFellDF = meteoriteDF[meteoriteDF[\"fall\"] == \"Fell\"]"
   ]
  },
  {
   "cell_type": "code",
   "execution_count": 17,
   "metadata": {},
   "outputs": [
    {
     "data": {
      "text/plain": [
       "name            0\n",
       "id              0\n",
       "nametype        0\n",
       "recclass        0\n",
       "mass           32\n",
       "fall            0\n",
       "year            0\n",
       "reclat         10\n",
       "reclong        10\n",
       "GeoLocation    10\n",
       "dtype: int64"
      ]
     },
     "execution_count": 17,
     "metadata": {},
     "output_type": "execute_result"
    }
   ],
   "source": [
    "meteoriteFellDF.isnull().sum()"
   ]
  },
  {
   "cell_type": "code",
   "execution_count": 7,
   "metadata": {
    "scrolled": true
   },
   "outputs": [],
   "source": [
    "meteoriteFellDF = meteoriteFellDF.drop(meteoriteFellDF[(meteoriteFellDF[\"reclat\"] == 0) & (meteoriteFellDF[\"reclong\"] == 0)].index)"
   ]
  },
  {
   "cell_type": "code",
   "execution_count": 8,
   "metadata": {},
   "outputs": [],
   "source": [
    "meteoriteFellDF = meteoriteFellDF.drop(meteoriteFellDF[(meteoriteFellDF[\"year\"] >= 2016.0) | (meteoriteFellDF[\"year\"] < 860.0)].index)"
   ]
  },
  {
   "cell_type": "code",
   "execution_count": 18,
   "metadata": {},
   "outputs": [],
   "source": [
    "locationDF = meteoriteFellDF[['id', 'reclat', 'reclong']]"
   ]
  },
  {
   "cell_type": "code",
   "execution_count": 19,
   "metadata": {},
   "outputs": [
    {
     "name": "stderr",
     "output_type": "stream",
     "text": [
      "/Users/mario/opt/anaconda3/envs/PythonData/lib/python3.7/site-packages/ipykernel_launcher.py:1: SettingWithCopyWarning: \n",
      "A value is trying to be set on a copy of a slice from a DataFrame.\n",
      "Try using .loc[row_indexer,col_indexer] = value instead\n",
      "\n",
      "See the caveats in the documentation: https://pandas.pydata.org/pandas-docs/stable/user_guide/indexing.html#returning-a-view-versus-a-copy\n",
      "  \"\"\"Entry point for launching an IPython kernel.\n",
      "/Users/mario/opt/anaconda3/envs/PythonData/lib/python3.7/site-packages/ipykernel_launcher.py:2: SettingWithCopyWarning: \n",
      "A value is trying to be set on a copy of a slice from a DataFrame.\n",
      "Try using .loc[row_indexer,col_indexer] = value instead\n",
      "\n",
      "See the caveats in the documentation: https://pandas.pydata.org/pandas-docs/stable/user_guide/indexing.html#returning-a-view-versus-a-copy\n",
      "  \n"
     ]
    }
   ],
   "source": [
    "locationDF[\"city\"] = \"\"\n",
    "locationDF[\"country\"] = \"\""
   ]
  },
  {
   "cell_type": "code",
   "execution_count": 20,
   "metadata": {},
   "outputs": [
    {
     "data": {
      "text/html": [
       "<div>\n",
       "<style scoped>\n",
       "    .dataframe tbody tr th:only-of-type {\n",
       "        vertical-align: middle;\n",
       "    }\n",
       "\n",
       "    .dataframe tbody tr th {\n",
       "        vertical-align: top;\n",
       "    }\n",
       "\n",
       "    .dataframe thead th {\n",
       "        text-align: right;\n",
       "    }\n",
       "</style>\n",
       "<table border=\"1\" class=\"dataframe\">\n",
       "  <thead>\n",
       "    <tr style=\"text-align: right;\">\n",
       "      <th></th>\n",
       "      <th>id</th>\n",
       "      <th>reclat</th>\n",
       "      <th>reclong</th>\n",
       "      <th>city</th>\n",
       "      <th>country</th>\n",
       "    </tr>\n",
       "  </thead>\n",
       "  <tbody>\n",
       "    <tr>\n",
       "      <th>0</th>\n",
       "      <td>1</td>\n",
       "      <td>50.77500</td>\n",
       "      <td>6.08333</td>\n",
       "      <td></td>\n",
       "      <td></td>\n",
       "    </tr>\n",
       "    <tr>\n",
       "      <th>1</th>\n",
       "      <td>2</td>\n",
       "      <td>56.18333</td>\n",
       "      <td>10.23333</td>\n",
       "      <td></td>\n",
       "      <td></td>\n",
       "    </tr>\n",
       "    <tr>\n",
       "      <th>2</th>\n",
       "      <td>6</td>\n",
       "      <td>54.21667</td>\n",
       "      <td>-113.00000</td>\n",
       "      <td></td>\n",
       "      <td></td>\n",
       "    </tr>\n",
       "    <tr>\n",
       "      <th>3</th>\n",
       "      <td>10</td>\n",
       "      <td>16.88333</td>\n",
       "      <td>-99.90000</td>\n",
       "      <td></td>\n",
       "      <td></td>\n",
       "    </tr>\n",
       "    <tr>\n",
       "      <th>4</th>\n",
       "      <td>370</td>\n",
       "      <td>-33.16667</td>\n",
       "      <td>-64.95000</td>\n",
       "      <td></td>\n",
       "      <td></td>\n",
       "    </tr>\n",
       "  </tbody>\n",
       "</table>\n",
       "</div>"
      ],
      "text/plain": [
       "    id    reclat    reclong city country\n",
       "0    1  50.77500    6.08333             \n",
       "1    2  56.18333   10.23333             \n",
       "2    6  54.21667 -113.00000             \n",
       "3   10  16.88333  -99.90000             \n",
       "4  370 -33.16667  -64.95000             "
      ]
     },
     "execution_count": 20,
     "metadata": {},
     "output_type": "execute_result"
    }
   ],
   "source": [
    "locationDF.head()"
   ]
  },
  {
   "cell_type": "code",
   "execution_count": 21,
   "metadata": {},
   "outputs": [],
   "source": [
    "params = {\"key\": \"value\"}"
   ]
  },
  {
   "cell_type": "code",
   "execution_count": 22,
   "metadata": {
    "scrolled": true
   },
   "outputs": [
    {
     "name": "stderr",
     "output_type": "stream",
     "text": [
      "/Users/mario/opt/anaconda3/envs/PythonData/lib/python3.7/site-packages/pandas/core/indexing.py:966: SettingWithCopyWarning: \n",
      "A value is trying to be set on a copy of a slice from a DataFrame.\n",
      "Try using .loc[row_indexer,col_indexer] = value instead\n",
      "\n",
      "See the caveats in the documentation: https://pandas.pydata.org/pandas-docs/stable/user_guide/indexing.html#returning-a-view-versus-a-copy\n",
      "  self.obj[item] = s\n"
     ]
    }
   ],
   "source": [
    "for index,row in locationDF.iterrows():\n",
    "    base_url = \"https://maps.googleapis.com/maps/api/geocode/json\"\n",
    "    \n",
    "    lat = row['reclat']\n",
    "    lng = row['reclong']\n",
    "    \n",
    "    params['latlng'] = f\"{lat},{lng}\"\n",
    "    \n",
    "    meteoriteCityCountry = requests.get(base_url,params=params)\n",
    "    \n",
    "    meteoriteCityCountry = meteoriteCityCountry.json()\n",
    "    \n",
    "    try:\n",
    "        if meteoriteCityCountry[\"results\"][0][\"address_components\"][0][\"types\"][0] == \"locality\":\n",
    "            locationDF.loc[index, \"city\"] = meteoriteCityCountry[\"results\"][0][\"address_components\"][0][\"long_name\"]\n",
    "        elif meteoriteCityCountry[\"results\"][0][\"address_components\"][1][\"types\"][0] == \"locality\":\n",
    "            locationDF.loc[index, \"city\"] = meteoriteCityCountry[\"results\"][0][\"address_components\"][1][\"long_name\"]\n",
    "        elif meteoriteCityCountry[\"results\"][0][\"address_components\"][2][\"types\"][0] == \"locality\":\n",
    "            locationDF.loc[index, \"city\"] = meteoriteCityCountry[\"results\"][0][\"address_components\"][2][\"long_name\"]\n",
    "        elif meteoriteCityCountry[\"results\"][0][\"address_components\"][3][\"types\"][0] == \"locality\":\n",
    "            locationDF.loc[index, \"city\"] = meteoriteCityCountry[\"results\"][0][\"address_components\"][3][\"long_name\"]\n",
    "        elif meteoriteCityCountry[\"results\"][0][\"address_components\"][4][\"types\"][0] == \"locality\":\n",
    "            locationDF.loc[index, \"city\"] = meteoriteCityCountry[\"results\"][0][\"address_components\"][4][\"long_name\"]\n",
    "        elif meteoriteCityCountry[\"results\"][0][\"address_components\"][5][\"types\"][0] == \"locality\":\n",
    "            locationDF.loc[index, \"city\"] = meteoriteCityCountry[\"results\"][0][\"address_components\"][5][\"long_name\"]\n",
    "        elif meteoriteCityCountry[\"results\"][0][\"address_components\"][6][\"types\"][0] == \"locality\":\n",
    "            locationDF.loc[index, \"city\"] = meteoriteCityCountry[\"results\"][0][\"address_components\"][6][\"long_name\"]\n",
    "        elif meteoriteCityCountry[\"results\"][0][\"address_components\"][7][\"types\"][0] == \"locality\":\n",
    "            locationDF.loc[index, \"city\"] = meteoriteCityCountry[\"results\"][0][\"address_components\"][7][\"long_name\"]\n",
    "        elif meteoriteCityCountry[\"results\"][0][\"address_components\"][8][\"types\"][0] == \"locality\":\n",
    "            locationDF.loc[index, \"city\"] = meteoriteCityCountry[\"results\"][0][\"address_components\"][8][\"long_name\"]\n",
    "        else:\n",
    "            pass\n",
    "    except:\n",
    "        locationDF.loc[index, \"city\"] = \"\"\n",
    "    \n",
    "    try:\n",
    "        if meteoriteCityCountry[\"results\"][0][\"address_components\"][0][\"types\"][0] == \"country\":\n",
    "            locationDF.loc[index, \"country\"] = meteoriteCityCountry[\"results\"][0][\"address_components\"][0][\"long_name\"]\n",
    "        elif meteoriteCityCountry[\"results\"][0][\"address_components\"][1][\"types\"][0] == \"country\":\n",
    "            locationDF.loc[index, \"country\"] = meteoriteCityCountry[\"results\"][0][\"address_components\"][1][\"long_name\"]\n",
    "        elif meteoriteCityCountry[\"results\"][0][\"address_components\"][2][\"types\"][0] == \"country\":\n",
    "            locationDF.loc[index, \"country\"] = meteoriteCityCountry[\"results\"][0][\"address_components\"][2][\"long_name\"]\n",
    "        elif meteoriteCityCountry[\"results\"][0][\"address_components\"][3][\"types\"][0] == \"country\":\n",
    "            locationDF.loc[index, \"country\"] = meteoriteCityCountry[\"results\"][0][\"address_components\"][3][\"long_name\"]\n",
    "        elif meteoriteCityCountry[\"results\"][0][\"address_components\"][4][\"types\"][0] == \"country\":\n",
    "            locationDF.loc[index, \"country\"] = meteoriteCityCountry[\"results\"][0][\"address_components\"][4][\"long_name\"]\n",
    "        elif meteoriteCityCountry[\"results\"][0][\"address_components\"][5][\"types\"][0] == \"country\":\n",
    "            locationDF.loc[index, \"country\"] = meteoriteCityCountry[\"results\"][0][\"address_components\"][5][\"long_name\"]\n",
    "        elif meteoriteCityCountry[\"results\"][0][\"address_components\"][6][\"types\"][0] == \"country\":\n",
    "            locationDF.loc[index, \"country\"] = meteoriteCityCountry[\"results\"][0][\"address_components\"][6][\"long_name\"]\n",
    "        elif meteoriteCityCountry[\"results\"][0][\"address_components\"][7][\"types\"][0] == \"country\":\n",
    "            locationDF.loc[index, \"country\"] = meteoriteCityCountry[\"results\"][0][\"address_components\"][7][\"long_name\"]\n",
    "        elif meteoriteCityCountry[\"results\"][0][\"address_components\"][8][\"types\"][0] == \"country\":\n",
    "            locationDF.loc[index, \"country\"] = meteoriteCityCountry[\"results\"][0][\"address_components\"][8][\"long_name\"]\n",
    "        else:\n",
    "            pass\n",
    "    except:\n",
    "        locationDF.loc[index, \"country\"] = \"\""
   ]
  },
  {
   "cell_type": "code",
   "execution_count": 23,
   "metadata": {
    "scrolled": true
   },
   "outputs": [
    {
     "data": {
      "text/html": [
       "<div>\n",
       "<style scoped>\n",
       "    .dataframe tbody tr th:only-of-type {\n",
       "        vertical-align: middle;\n",
       "    }\n",
       "\n",
       "    .dataframe tbody tr th {\n",
       "        vertical-align: top;\n",
       "    }\n",
       "\n",
       "    .dataframe thead th {\n",
       "        text-align: right;\n",
       "    }\n",
       "</style>\n",
       "<table border=\"1\" class=\"dataframe\">\n",
       "  <thead>\n",
       "    <tr style=\"text-align: right;\">\n",
       "      <th></th>\n",
       "      <th>id</th>\n",
       "      <th>reclat</th>\n",
       "      <th>reclong</th>\n",
       "      <th>city</th>\n",
       "      <th>country</th>\n",
       "    </tr>\n",
       "  </thead>\n",
       "  <tbody>\n",
       "    <tr>\n",
       "      <th>1088</th>\n",
       "      <td>30377</td>\n",
       "      <td>28.71667</td>\n",
       "      <td>116.61667</td>\n",
       "      <td>Shangrao Shi</td>\n",
       "      <td>China</td>\n",
       "    </tr>\n",
       "    <tr>\n",
       "      <th>1089</th>\n",
       "      <td>30378</td>\n",
       "      <td>47.31667</td>\n",
       "      <td>35.36667</td>\n",
       "      <td></td>\n",
       "      <td>Ukraine</td>\n",
       "    </tr>\n",
       "    <tr>\n",
       "      <th>1090</th>\n",
       "      <td>30379</td>\n",
       "      <td>50.28333</td>\n",
       "      <td>27.68333</td>\n",
       "      <td>Baranivka</td>\n",
       "      <td>Ukraine</td>\n",
       "    </tr>\n",
       "    <tr>\n",
       "      <th>1091</th>\n",
       "      <td>30380</td>\n",
       "      <td>55.18333</td>\n",
       "      <td>27.91667</td>\n",
       "      <td></td>\n",
       "      <td>Belarus</td>\n",
       "    </tr>\n",
       "    <tr>\n",
       "      <th>1092</th>\n",
       "      <td>30384</td>\n",
       "      <td>27.33333</td>\n",
       "      <td>-9.33333</td>\n",
       "      <td></td>\n",
       "      <td></td>\n",
       "    </tr>\n",
       "    <tr>\n",
       "      <th>1093</th>\n",
       "      <td>30386</td>\n",
       "      <td>11.73333</td>\n",
       "      <td>7.08333</td>\n",
       "      <td></td>\n",
       "      <td>Nigeria</td>\n",
       "    </tr>\n",
       "    <tr>\n",
       "      <th>1094</th>\n",
       "      <td>30388</td>\n",
       "      <td>47.50000</td>\n",
       "      <td>83.00000</td>\n",
       "      <td>Oichilik</td>\n",
       "      <td>Kazakhstan</td>\n",
       "    </tr>\n",
       "    <tr>\n",
       "      <th>1095</th>\n",
       "      <td>30389</td>\n",
       "      <td>33.70000</td>\n",
       "      <td>133.80000</td>\n",
       "      <td>Kami</td>\n",
       "      <td>Japan</td>\n",
       "    </tr>\n",
       "    <tr>\n",
       "      <th>1096</th>\n",
       "      <td>30391</td>\n",
       "      <td>32.30000</td>\n",
       "      <td>112.75000</td>\n",
       "      <td>Xiangyang Shi</td>\n",
       "      <td>China</td>\n",
       "    </tr>\n",
       "    <tr>\n",
       "      <th>1097</th>\n",
       "      <td>30395</td>\n",
       "      <td>47.13333</td>\n",
       "      <td>43.90000</td>\n",
       "      <td></td>\n",
       "      <td>Russia</td>\n",
       "    </tr>\n",
       "    <tr>\n",
       "      <th>1098</th>\n",
       "      <td>30396</td>\n",
       "      <td>44.40000</td>\n",
       "      <td>19.11667</td>\n",
       "      <td>Mali Zvornik</td>\n",
       "      <td>Serbia</td>\n",
       "    </tr>\n",
       "    <tr>\n",
       "      <th>1099</th>\n",
       "      <td>30397</td>\n",
       "      <td>49.88333</td>\n",
       "      <td>13.91667</td>\n",
       "      <td>Chlustina</td>\n",
       "      <td>Czechia</td>\n",
       "    </tr>\n",
       "    <tr>\n",
       "      <th>1100</th>\n",
       "      <td>30399</td>\n",
       "      <td>55.30000</td>\n",
       "      <td>25.00000</td>\n",
       "      <td>Žemaitkiemis</td>\n",
       "      <td>Lithuania</td>\n",
       "    </tr>\n",
       "    <tr>\n",
       "      <th>1101</th>\n",
       "      <td>30404</td>\n",
       "      <td>45.81667</td>\n",
       "      <td>125.91667</td>\n",
       "      <td>Suihua Shi</td>\n",
       "      <td>China</td>\n",
       "    </tr>\n",
       "    <tr>\n",
       "      <th>1102</th>\n",
       "      <td>30407</td>\n",
       "      <td>47.58333</td>\n",
       "      <td>37.25000</td>\n",
       "      <td></td>\n",
       "      <td>Ukraine</td>\n",
       "    </tr>\n",
       "    <tr>\n",
       "      <th>1103</th>\n",
       "      <td>30408</td>\n",
       "      <td>39.66667</td>\n",
       "      <td>122.98333</td>\n",
       "      <td>Dalian Shi</td>\n",
       "      <td>China</td>\n",
       "    </tr>\n",
       "    <tr>\n",
       "      <th>1104</th>\n",
       "      <td>30411</td>\n",
       "      <td>51.83333</td>\n",
       "      <td>26.83333</td>\n",
       "      <td></td>\n",
       "      <td>Belarus</td>\n",
       "    </tr>\n",
       "    <tr>\n",
       "      <th>1105</th>\n",
       "      <td>30412</td>\n",
       "      <td>-15.18333</td>\n",
       "      <td>35.28333</td>\n",
       "      <td>Machinga</td>\n",
       "      <td>Malawi</td>\n",
       "    </tr>\n",
       "    <tr>\n",
       "      <th>1106</th>\n",
       "      <td>30413</td>\n",
       "      <td>46.93333</td>\n",
       "      <td>21.50000</td>\n",
       "      <td>Zsadány</td>\n",
       "      <td>Hungary</td>\n",
       "    </tr>\n",
       "    <tr>\n",
       "      <th>1107</th>\n",
       "      <td>30415</td>\n",
       "      <td>50.20000</td>\n",
       "      <td>30.25000</td>\n",
       "      <td>Zdorivka</td>\n",
       "      <td>Ukraine</td>\n",
       "    </tr>\n",
       "  </tbody>\n",
       "</table>\n",
       "</div>"
      ],
      "text/plain": [
       "         id    reclat    reclong           city     country\n",
       "1088  30377  28.71667  116.61667   Shangrao Shi       China\n",
       "1089  30378  47.31667   35.36667                    Ukraine\n",
       "1090  30379  50.28333   27.68333      Baranivka     Ukraine\n",
       "1091  30380  55.18333   27.91667                    Belarus\n",
       "1092  30384  27.33333   -9.33333                           \n",
       "1093  30386  11.73333    7.08333                    Nigeria\n",
       "1094  30388  47.50000   83.00000       Oichilik  Kazakhstan\n",
       "1095  30389  33.70000  133.80000           Kami       Japan\n",
       "1096  30391  32.30000  112.75000  Xiangyang Shi       China\n",
       "1097  30395  47.13333   43.90000                     Russia\n",
       "1098  30396  44.40000   19.11667   Mali Zvornik      Serbia\n",
       "1099  30397  49.88333   13.91667      Chlustina     Czechia\n",
       "1100  30399  55.30000   25.00000   Žemaitkiemis   Lithuania\n",
       "1101  30404  45.81667  125.91667     Suihua Shi       China\n",
       "1102  30407  47.58333   37.25000                    Ukraine\n",
       "1103  30408  39.66667  122.98333     Dalian Shi       China\n",
       "1104  30411  51.83333   26.83333                    Belarus\n",
       "1105  30412 -15.18333   35.28333       Machinga      Malawi\n",
       "1106  30413  46.93333   21.50000        Zsadány     Hungary\n",
       "1107  30415  50.20000   30.25000       Zdorivka     Ukraine"
      ]
     },
     "execution_count": 23,
     "metadata": {},
     "output_type": "execute_result"
    }
   ],
   "source": [
    "locationDF.tail(20)"
   ]
  },
  {
   "cell_type": "code",
   "execution_count": null,
   "metadata": {},
   "outputs": [],
   "source": [
    "locationDF[locationDF[\"country\"] == \"\"]"
   ]
  },
  {
   "cell_type": "code",
   "execution_count": 24,
   "metadata": {},
   "outputs": [
    {
     "name": "stdout",
     "output_type": "stream",
     "text": [
      "{\n",
      "    \"plus_code\": {\n",
      "        \"global_code\": \"7CVG8MM8+8M\"\n",
      "    },\n",
      "    \"results\": [],\n",
      "    \"status\": \"ZERO_RESULTS\"\n",
      "}\n"
     ]
    }
   ],
   "source": [
    "base_url = \"https://maps.googleapis.com/maps/api/geocode/json\"\n",
    "params['latlng'] = \"27.33333,-9.33333\"\n",
    "    \n",
    "response = requests.get(base_url, params=params)\n",
    "locationData = response.json()\n",
    "print(json.dumps(locationData, indent=4, sort_keys=True))"
   ]
  },
  {
   "cell_type": "code",
   "execution_count": null,
   "metadata": {},
   "outputs": [],
   "source": []
  }
 ],
 "metadata": {
  "kernelspec": {
   "display_name": "Python 3",
   "language": "python",
   "name": "python3"
  },
  "language_info": {
   "codemirror_mode": {
    "name": "ipython",
    "version": 3
   },
   "file_extension": ".py",
   "mimetype": "text/x-python",
   "name": "python",
   "nbconvert_exporter": "python",
   "pygments_lexer": "ipython3",
   "version": "3.7.6"
  }
 },
 "nbformat": 4,
 "nbformat_minor": 4
}
